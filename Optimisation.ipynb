{
 "cells": [
  {
   "cell_type": "code",
   "execution_count": 1,
   "id": "174db4fe",
   "metadata": {},
   "outputs": [],
   "source": [
    "N_JOBS = 5\n",
    "N_MACHINES = 4"
   ]
  },
  {
   "cell_type": "code",
   "execution_count": 2,
   "id": "706c4547",
   "metadata": {},
   "outputs": [],
   "source": [
    "import random\n",
    "\n",
    "def generateData(seed=3146):\n",
    "    PROC = [ [ 0 for m in range(N_MACHINES) ] for j in range(N_JOBS) ]\n",
    "    random.seed(seed)\n",
    "    for j in range(N_JOBS):\n",
    "        for m in range(N_MACHINES):\n",
    "            PROC[j][m] = random.randint(1,9)\n",
    "    return PROC"
   ]
  },
  {
   "cell_type": "code",
   "execution_count": 3,
   "id": "b494c43f",
   "metadata": {},
   "outputs": [],
   "source": [
    "PROC = generateData(3146)"
   ]
  },
  {
   "cell_type": "code",
   "execution_count": 4,
   "id": "2be3f06f",
   "metadata": {},
   "outputs": [
    {
     "data": {
      "text/plain": [
       "[[2, 7, 6, 9], [3, 2, 5, 6], [1, 4, 1, 8], [2, 4, 2, 2], [9, 5, 2, 7]]"
      ]
     },
     "execution_count": 4,
     "metadata": {},
     "output_type": "execute_result"
    }
   ],
   "source": [
    "PROC"
   ]
  },
  {
   "cell_type": "code",
   "execution_count": 5,
   "id": "25dd6f25",
   "metadata": {},
   "outputs": [],
   "source": [
    "# print(jobSequence())"
   ]
  },
  {
   "cell_type": "code",
   "execution_count": 6,
   "id": "941872a0",
   "metadata": {},
   "outputs": [],
   "source": [
    "import pulp"
   ]
  },
  {
   "cell_type": "code",
   "execution_count": 7,
   "id": "f3c8ebf8",
   "metadata": {},
   "outputs": [],
   "source": [
    "def val(x):\n",
    "    return int(pulp.value(x))"
   ]
  },
  {
   "cell_type": "code",
   "execution_count": 8,
   "id": "0d31f15a",
   "metadata": {},
   "outputs": [],
   "source": [
    "prob = pulp.LpProblem(\"JobScheduling\",pulp.LpMinimize)"
   ]
  },
  {
   "cell_type": "markdown",
   "id": "ec59b955",
   "metadata": {},
   "source": [
    "`J[j]` defines the sequencing of jobs 'j' and is just a permutation of the job number:"
   ]
  },
  {
   "cell_type": "code",
   "execution_count": 9,
   "id": "475a6a39",
   "metadata": {},
   "outputs": [],
   "source": [
    "JJ = pulp.LpVariable.dicts(\"J\", (range(N_JOBS), range(N_JOBS)),\n",
    "                           lowBound=0, upBound=1, cat='Integer')"
   ]
  },
  {
   "cell_type": "code",
   "execution_count": 10,
   "id": "51472596",
   "metadata": {},
   "outputs": [],
   "source": [
    "def job(n):\n",
    "    for j in range(N_JOBS):\n",
    "        if val(JJ[n][j])==1:\n",
    "            return j"
   ]
  },
  {
   "cell_type": "code",
   "execution_count": 11,
   "id": "61adf62b",
   "metadata": {},
   "outputs": [],
   "source": [
    "def jobSequence():\n",
    "    acc = []\n",
    "    for j in range(N_JOBS):\n",
    "        for jj in range(N_JOBS):\n",
    "            if pulp.value(JJ[j][jj])==1:\n",
    "                acc.append(jj)\n",
    "    return acc"
   ]
  },
  {
   "cell_type": "code",
   "execution_count": 12,
   "id": "e53a9e2b",
   "metadata": {},
   "outputs": [],
   "source": [
    "def proc(job, machine):\n",
    "    global PROC\n",
    "    return pulp.lpSum( [ PROC[j][machine] * JJ[j][job] for j in range(N_JOBS) ] ) "
   ]
  },
  {
   "cell_type": "markdown",
   "id": "ae3ab8e3",
   "metadata": {},
   "source": [
    "`WAIT[j][m]` describes the wait time of job `j` before machine `m`"
   ]
  },
  {
   "cell_type": "code",
   "execution_count": 13,
   "id": "09e86020",
   "metadata": {},
   "outputs": [],
   "source": [
    "Wait = pulp.LpVariable.dicts(\"WAIT\", (range(N_JOBS), range(N_MACHINES)),\n",
    "                          lowBound=0, cat='Integer')"
   ]
  },
  {
   "cell_type": "markdown",
   "id": "c48c7427",
   "metadata": {},
   "source": [
    "`IDLE[j][m]` describes the idle time of machine `m` before processing job `j` "
   ]
  },
  {
   "cell_type": "code",
   "execution_count": 14,
   "id": "965ee6ac",
   "metadata": {},
   "outputs": [],
   "source": [
    "Idle = pulp.LpVariable.dicts(\"IDLE\", (range(N_JOBS), range(N_MACHINES)),\n",
    "                             lowBound=0, cat='Integer')"
   ]
  },
  {
   "cell_type": "markdown",
   "id": "0d0cd02f",
   "metadata": {},
   "source": [
    "`START[j][m]` describes the start time of machine `m` processing job `j`"
   ]
  },
  {
   "cell_type": "code",
   "execution_count": 15,
   "id": "643e1405",
   "metadata": {},
   "outputs": [],
   "source": [
    "Start = pulp.LpVariable.dicts(\"START\", (range(N_JOBS), range(N_MACHINES)),\n",
    "                          lowBound=0, cat='Integer')"
   ]
  },
  {
   "cell_type": "markdown",
   "id": "34d2ed3d",
   "metadata": {},
   "source": [
    "`STOP[j][m]` describes the stop time of machine `m` after processing job `j`"
   ]
  },
  {
   "cell_type": "code",
   "execution_count": 16,
   "id": "4f879ba6",
   "metadata": {},
   "outputs": [],
   "source": [
    "Stop = pulp.LpVariable.dicts(\"STOP\", (range(N_JOBS), range(N_MACHINES)),\n",
    "                          lowBound=0, cat='Integer')"
   ]
  },
  {
   "cell_type": "code",
   "execution_count": 17,
   "id": "f22f0ff3",
   "metadata": {},
   "outputs": [],
   "source": [
    "prob += Stop[N_JOBS-1][N_MACHINES-1]"
   ]
  },
  {
   "cell_type": "code",
   "execution_count": 18,
   "id": "3fdaf027",
   "metadata": {},
   "outputs": [],
   "source": [
    "for j in range(N_JOBS):\n",
    "    prob += pulp.lpSum( [ JJ[j][jj] for jj in range(N_JOBS) ] ) == 1\n",
    "    prob += pulp.lpSum( [ JJ[jj][j] for jj in range(N_JOBS) ] ) == 1"
   ]
  },
  {
   "cell_type": "code",
   "execution_count": 19,
   "id": "6423a893",
   "metadata": {},
   "outputs": [],
   "source": [
    "for m in range(N_MACHINES):\n",
    "    for j in range(N_JOBS):\n",
    "        prob += pulp.lpSum( [ Idle[ji][m] + proc(ji, m) for ji in range(j) ] ) + Idle[j][m] == Start[j][m]"
   ]
  },
  {
   "cell_type": "code",
   "execution_count": 20,
   "id": "a97c539c",
   "metadata": {},
   "outputs": [],
   "source": [
    "for m in range(N_MACHINES):\n",
    "    for j in range(N_JOBS):\n",
    "        prob += pulp.lpSum( [ Wait[j][mi] + proc(j, mi) for mi in range(m) ] ) + Wait[j][m] == Start[j][m]"
   ]
  },
  {
   "cell_type": "code",
   "execution_count": 21,
   "id": "3725c3e3",
   "metadata": {},
   "outputs": [],
   "source": [
    "for j in range(N_JOBS):\n",
    "    for m in range(N_MACHINES):\n",
    "        prob += Start[j][m] + proc(j,m) == Stop[j][m]"
   ]
  },
  {
   "cell_type": "code",
   "execution_count": 22,
   "id": "8a783858",
   "metadata": {},
   "outputs": [
    {
     "data": {
      "text/plain": [
       "1"
      ]
     },
     "execution_count": 22,
     "metadata": {},
     "output_type": "execute_result"
    }
   ],
   "source": [
    "solvers = pulp.listSolvers(onlyAvailable=True) \n",
    "solver = pulp.getSolver(solvers[0], msg=0)\n",
    "prob.solve(solver)"
   ]
  },
  {
   "cell_type": "code",
   "execution_count": 23,
   "id": "ca5f6e2e",
   "metadata": {},
   "outputs": [],
   "source": [
    "def schedule():\n",
    "    row = \"\"\n",
    "    row += '|---------|'\n",
    "    for m in range(N_MACHINES):\n",
    "        row += f\"------------|\" \\\n",
    "                f\"------------|\"\n",
    "    row += '\\n'\n",
    "    row += '|         |'\n",
    "    for m in range(N_MACHINES):\n",
    "        row += f\"            |\" \\\n",
    "                f\" Machine: {m:1d} |\"\n",
    "    row += '\\n'\n",
    "    for j in range(N_JOBS):\n",
    "        row += '|---------|'\n",
    "        for m in range(N_MACHINES):\n",
    "            row += f\"------------|\" \\\n",
    "                   f\"------------|\"\n",
    "        row += '\\n'\n",
    "        row += '|         |'\n",
    "        for m in range(N_MACHINES):\n",
    "            row += f\"       {' ':4s} | \" \\\n",
    "                   f\"Idle: {val(Idle[j][m]):4d} |\"\n",
    "        row += '\\n'\n",
    "        row += '|---------|'\n",
    "        for m in range(N_MACHINES):\n",
    "            row += f\"------------|\" \\\n",
    "                   f\"------------|\"\n",
    "        row += '\\n'\n",
    "        row += '|         |'\n",
    "        for m in range(N_MACHINES):\n",
    "            row += f\"       {' ':4s} | \" \\\n",
    "                   f\"Start:{val(Start[j][m]):4d} |\"  \n",
    "        row += '\\n' \n",
    "        row += f'| Job: {job(j):2d} |'\n",
    "        for m in range(N_MACHINES):\n",
    "            row += f\" Wait: {val(Wait[j][m]):4d} | \" \\\n",
    "                   f\"Proc: {val(proc(j,m)):4d} |\"\n",
    "        row += '\\n'\n",
    "        row += '|         |'\n",
    "        for m in range(N_MACHINES):\n",
    "            row += f\"       {' ':4s} | \" \\\n",
    "                   f\"Stop: {val(Stop[j][m]):4d} |\"  \n",
    "        row += '\\n' \n",
    "    row += '|---------|'\n",
    "    for m in range(N_MACHINES):\n",
    "        row += f\"------------|\" \\\n",
    "                f\"------------|\"\n",
    "    row += '\\n'\n",
    "    return row"
   ]
  },
  {
   "cell_type": "markdown",
   "id": "c001a627",
   "metadata": {},
   "source": [
    "The processing times per job and machine:"
   ]
  },
  {
   "cell_type": "code",
   "execution_count": 24,
   "id": "bc76ebb0",
   "metadata": {},
   "outputs": [
    {
     "data": {
      "text/plain": [
       "[[2, 7, 6, 9], [3, 2, 5, 6], [1, 4, 1, 8], [2, 4, 2, 2], [9, 5, 2, 7]]"
      ]
     },
     "execution_count": 24,
     "metadata": {},
     "output_type": "execute_result"
    }
   ],
   "source": [
    "PROC"
   ]
  },
  {
   "cell_type": "markdown",
   "id": "76656c0d",
   "metadata": {},
   "source": [
    "The optimal job schedule:"
   ]
  },
  {
   "cell_type": "code",
   "execution_count": 25,
   "id": "0b8311ac",
   "metadata": {},
   "outputs": [
    {
     "name": "stdout",
     "output_type": "stream",
     "text": [
      "[2, 1, 0, 3, 4]\n"
     ]
    }
   ],
   "source": [
    "print(jobSequence())"
   ]
  },
  {
   "cell_type": "markdown",
   "id": "144893f8",
   "metadata": {},
   "source": [
    "The processing time of the optimal job schedule:"
   ]
  },
  {
   "cell_type": "code",
   "execution_count": 26,
   "id": "f38db611",
   "metadata": {},
   "outputs": [
    {
     "data": {
      "text/plain": [
       "38"
      ]
     },
     "execution_count": 26,
     "metadata": {},
     "output_type": "execute_result"
    }
   ],
   "source": [
    "int(pulp.value(prob.objective))"
   ]
  },
  {
   "cell_type": "markdown",
   "id": "73acb3ef",
   "metadata": {},
   "source": [
    "The optimal job schedule in detail:"
   ]
  },
  {
   "cell_type": "code",
   "execution_count": 27,
   "id": "f37fbc0d",
   "metadata": {},
   "outputs": [
    {
     "name": "stdout",
     "output_type": "stream",
     "text": [
      "|---------|------------|------------|------------|------------|------------|------------|------------|------------|\n",
      "|         |            | Machine: 0 |            | Machine: 1 |            | Machine: 2 |            | Machine: 3 |\n",
      "|---------|------------|------------|------------|------------|------------|------------|------------|------------|\n",
      "|         |            | Idle:    0 |            | Idle:    1 |            | Idle:    5 |            | Idle:    6 |\n",
      "|---------|------------|------------|------------|------------|------------|------------|------------|------------|\n",
      "|         |            | Start:   0 |            | Start:   1 |            | Start:   5 |            | Start:   6 |\n",
      "| Job:  2 | Wait:    0 | Proc:    1 | Wait:    0 | Proc:    4 | Wait:    0 | Proc:    1 | Wait:    0 | Proc:    8 |\n",
      "|         |            | Stop:    1 |            | Stop:    5 |            | Stop:    6 |            | Stop:   14 |\n",
      "|---------|------------|------------|------------|------------|------------|------------|------------|------------|\n",
      "|         |            | Idle:    0 |            | Idle:    0 |            | Idle:    1 |            | Idle:    0 |\n",
      "|---------|------------|------------|------------|------------|------------|------------|------------|------------|\n",
      "|         |            | Start:   1 |            | Start:   5 |            | Start:   7 |            | Start:  14 |\n",
      "| Job:  1 | Wait:    1 | Proc:    3 | Wait:    1 | Proc:    2 | Wait:    0 | Proc:    5 | Wait:    2 | Proc:    6 |\n",
      "|         |            | Stop:    4 |            | Stop:    7 |            | Stop:   12 |            | Stop:   20 |\n",
      "|---------|------------|------------|------------|------------|------------|------------|------------|------------|\n",
      "|         |            | Idle:    0 |            | Idle:    0 |            | Idle:    2 |            | Idle:    0 |\n",
      "|---------|------------|------------|------------|------------|------------|------------|------------|------------|\n",
      "|         |            | Start:   4 |            | Start:   7 |            | Start:  14 |            | Start:  20 |\n",
      "| Job:  0 | Wait:    4 | Proc:    2 | Wait:    1 | Proc:    7 | Wait:    0 | Proc:    6 | Wait:    0 | Proc:    9 |\n",
      "|         |            | Stop:    6 |            | Stop:   14 |            | Stop:   20 |            | Stop:   29 |\n",
      "|---------|------------|------------|------------|------------|------------|------------|------------|------------|\n",
      "|         |            | Idle:    0 |            | Idle:    0 |            | Idle:    0 |            | Idle:    0 |\n",
      "|---------|------------|------------|------------|------------|------------|------------|------------|------------|\n",
      "|         |            | Start:   6 |            | Start:  14 |            | Start:  20 |            | Start:  29 |\n",
      "| Job:  3 | Wait:    6 | Proc:    2 | Wait:    6 | Proc:    4 | Wait:    2 | Proc:    2 | Wait:    7 | Proc:    2 |\n",
      "|         |            | Stop:    8 |            | Stop:   18 |            | Stop:   22 |            | Stop:   31 |\n",
      "|---------|------------|------------|------------|------------|------------|------------|------------|------------|\n",
      "|         |            | Idle:    0 |            | Idle:    0 |            | Idle:    7 |            | Idle:    0 |\n",
      "|---------|------------|------------|------------|------------|------------|------------|------------|------------|\n",
      "|         |            | Start:   8 |            | Start:  18 |            | Start:  29 |            | Start:  31 |\n",
      "| Job:  4 | Wait:    8 | Proc:    9 | Wait:    1 | Proc:    5 | Wait:    6 | Proc:    2 | Wait:    0 | Proc:    7 |\n",
      "|         |            | Stop:   17 |            | Stop:   23 |            | Stop:   31 |            | Stop:   38 |\n",
      "|---------|------------|------------|------------|------------|------------|------------|------------|------------|\n",
      "\n"
     ]
    }
   ],
   "source": [
    "print(schedule())"
   ]
  },
  {
   "cell_type": "code",
   "execution_count": 28,
   "id": "ab06b2f9",
   "metadata": {},
   "outputs": [
    {
     "name": "stdout",
     "output_type": "stream",
     "text": [
      "Greedy Result: [0, 1, 2, 3, 2]\n",
      "Runtime: 0.0 seconds\n",
      "Processing Times (proc): [[2, 7, 6, 9], [3, 2, 5, 6], [1, 4, 1, 8], [2, 4, 2, 2], [9, 5, 2, 7]]\n",
      "Makespan: 3\n"
     ]
    }
   ],
   "source": [
    "import time\n",
    " \n",
    "def greedy_job_scheduling(proc):\n",
    "    num_jobs = len(proc)\n",
    "    num_machines = len(proc[0])\n",
    "    # Initialize schedule and machine completion times\n",
    "    schedule = [-1] * num_jobs  # Initialize schedule with placeholder values\n",
    "    machine_completion_times = [0] * num_machines\n",
    "    # Greedy selection and assignment\n",
    "    for job in range(num_jobs):\n",
    "        best_machine = -1\n",
    "        best_completion_time = float('inf')\n",
    "        for machine in range(num_machines):\n",
    "            if machine_completion_times[machine] < best_completion_time:\n",
    "                best_machine = machine\n",
    "                best_completion_time = machine_completion_times[machine]\n",
    "        schedule[job] = best_machine\n",
    "        machine_completion_times[best_machine] += proc[job][best_machine]\n",
    "    return schedule, machine_completion_times\n",
    " \n",
    "# Example usage\n",
    "proc = [[2, 7, 6, 9], [3, 2, 5, 6], [1, 4, 1, 8], [2, 4, 2, 2], [9, 5, 2, 7]]\n",
    "start_time = time.time()\n",
    "greedy_result, machine_completion_times = greedy_job_scheduling(proc)\n",
    "print(\"Greedy Result:\", greedy_result)\n",
    "greedy_runtime = time.time() - start_time\n",
    "print(\"Runtime:\", greedy_runtime, \"seconds\")\n",
    " \n",
    "print(\"Processing Times (proc):\", proc)\n",
    " \n",
    "# Calculate makespan\n",
    "job_completion_times = [0] * len(proc[0])  # Initialize job completion times for each machine\n",
    "for job, machine in enumerate(greedy_result):\n",
    "    job_completion_times[machine] += proc[job][machine]\n",
    " \n",
    "makespan = max(job_completion_times)\n",
    "print(\"Makespan:\", makespan)\n",
    " \n",
    "# Generate schedule details for printing\n",
    "idle_times = []\n",
    "start_times = []\n",
    "job_wait_proc = []\n",
    "stop_times = []\n",
    " \n",
    "for m in range(len(proc[0])):\n",
    "    idle_times.append([])\n",
    "    start_times.append([])\n",
    "    job_wait_proc.append([])\n",
    "    stop_times.append([])\n",
    " \n",
    "for j, machine in enumerate(greedy_result):\n",
    "    idle = machine_completion_times[machine] - proc[j][machine]\n",
    "    start = machine_completion_times[machine]\n",
    "    wait = start - job_completion_times[machine]\n",
    "    proc_time = proc[j][machine]\n",
    "    stop = start + proc_time\n",
    "    idle_times[machine].append(idle)\n",
    "    start_times[machine].append(start)\n",
    "    job_wait_proc[machine].append((j, wait, proc_time))\n",
    "    stop_times[machine].append(stop)"
   ]
  },
  {
   "cell_type": "code",
   "execution_count": 29,
   "id": "afebc2e9",
   "metadata": {},
   "outputs": [],
   "source": [
    "def schedule(proc, greedy_result):\n",
    "    N_JOBS = len(proc)\n",
    "    N_MACHINES = len(proc[0])\n",
    "    \n",
    "    row = \"\"\n",
    "    row += '|---------|'\n",
    "    for m in range(N_MACHINES):\n",
    "        row += f\"------------|\" \\\n",
    "                f\"------------|\"\n",
    "    row += '\\n'\n",
    "    row += '|         |'\n",
    "    for m in range(N_MACHINES):\n",
    "        row += f\"            |\" \\\n",
    "                f\" Machine: {m:1d} |\"\n",
    "    row += '\\n'\n",
    "    for j in greedy_result:  # Loop over the jobs in the greedy_result sequence\n",
    "        row += '|---------|'\n",
    "        for m in range(N_MACHINES):\n",
    "            row += f\"------------|\" \\\n",
    "                   f\"------------|\"\n",
    "        row += '\\n'\n",
    "        row += '|         |'\n",
    "        for m in range(N_MACHINES):\n",
    "            if greedy_result.index(j) == m:\n",
    "                row += f\"       {' ':4s} | \" \\\n",
    "                       f\"Idle: {0:4d} |\"\n",
    "            else:\n",
    "                row += f\"       {' ':4s} | \" \\\n",
    "                       f\"Idle: {proc[j][m]:4d} |\"\n",
    "        row += '\\n'\n",
    "        row += '|---------|'\n",
    "        for m in range(N_MACHINES):\n",
    "            row += f\"------------|\" \\\n",
    "                   f\"------------|\"\n",
    "        row += '\\n'\n",
    "        row += '|         |'\n",
    "        for m in range(N_MACHINES):\n",
    "            if greedy_result.index(j) == m:\n",
    "                row += f\"       {' ':4s} | \" \\\n",
    "                       f\"Start:{0:4d} |\"\n",
    "            else:\n",
    "                row += f\"       {' ':4s} | \" \\\n",
    "                       f\"Start:{proc[j][m]:4d} |\"\n",
    "        row += '\\n' \n",
    "        row += f'| Job: {j:2d} |'\n",
    "        for m in range(N_MACHINES):\n",
    "            if greedy_result.index(j) == m:\n",
    "                row += f\" Wait: {0:4d} | \" \\\n",
    "                       f\"Proc: {0:4d} |\"\n",
    "            else:\n",
    "                row += f\" Wait: {proc[j][m]:4d} | \" \\\n",
    "                       f\"Proc: {proc[j][m]:4d} |\"\n",
    "        row += '\\n'\n",
    "        row += '|         |'\n",
    "        for m in range(N_MACHINES):\n",
    "            if greedy_result.index(j) == m:\n",
    "                row += f\"       {' ':4s} | \" \\\n",
    "                       f\"Stop: {0:4d} |\"\n",
    "            else:\n",
    "                row += f\"       {' ':4s} | \" \\\n",
    "                       f\"Stop: {proc[j][m]:4d} |\"\n",
    "        row += '\\n' \n",
    "    row += '|---------|'\n",
    "    for m in range(N_MACHINES):\n",
    "        row += f\"------------|\" \\\n",
    "                f\"------------|\"\n",
    "    row += '\\n'\n",
    "    return row\n"
   ]
  },
  {
   "cell_type": "code",
   "execution_count": 30,
   "id": "caf6ecd7",
   "metadata": {},
   "outputs": [
    {
     "name": "stdout",
     "output_type": "stream",
     "text": [
      "|---------|------------|------------|------------|------------|------------|------------|------------|------------|\n",
      "|         |            | Machine: 0 |            | Machine: 1 |            | Machine: 2 |            | Machine: 3 |\n",
      "|---------|------------|------------|------------|------------|------------|------------|------------|------------|\n",
      "|         |            | Idle:    0 |            | Idle:    7 |            | Idle:    6 |            | Idle:    9 |\n",
      "|---------|------------|------------|------------|------------|------------|------------|------------|------------|\n",
      "|         |            | Start:   0 |            | Start:   7 |            | Start:   6 |            | Start:   9 |\n",
      "| Job:  0 | Wait:    0 | Proc:    0 | Wait:    7 | Proc:    7 | Wait:    6 | Proc:    6 | Wait:    9 | Proc:    9 |\n",
      "|         |            | Stop:    0 |            | Stop:    7 |            | Stop:    6 |            | Stop:    9 |\n",
      "|---------|------------|------------|------------|------------|------------|------------|------------|------------|\n",
      "|         |            | Idle:    3 |            | Idle:    0 |            | Idle:    5 |            | Idle:    6 |\n",
      "|---------|------------|------------|------------|------------|------------|------------|------------|------------|\n",
      "|         |            | Start:   3 |            | Start:   0 |            | Start:   5 |            | Start:   6 |\n",
      "| Job:  1 | Wait:    3 | Proc:    3 | Wait:    0 | Proc:    0 | Wait:    5 | Proc:    5 | Wait:    6 | Proc:    6 |\n",
      "|         |            | Stop:    3 |            | Stop:    0 |            | Stop:    5 |            | Stop:    6 |\n",
      "|---------|------------|------------|------------|------------|------------|------------|------------|------------|\n",
      "|         |            | Idle:    1 |            | Idle:    4 |            | Idle:    0 |            | Idle:    8 |\n",
      "|---------|------------|------------|------------|------------|------------|------------|------------|------------|\n",
      "|         |            | Start:   1 |            | Start:   4 |            | Start:   0 |            | Start:   8 |\n",
      "| Job:  2 | Wait:    1 | Proc:    1 | Wait:    4 | Proc:    4 | Wait:    0 | Proc:    0 | Wait:    8 | Proc:    8 |\n",
      "|         |            | Stop:    1 |            | Stop:    4 |            | Stop:    0 |            | Stop:    8 |\n",
      "|---------|------------|------------|------------|------------|------------|------------|------------|------------|\n",
      "|         |            | Idle:    2 |            | Idle:    4 |            | Idle:    2 |            | Idle:    0 |\n",
      "|---------|------------|------------|------------|------------|------------|------------|------------|------------|\n",
      "|         |            | Start:   2 |            | Start:   4 |            | Start:   2 |            | Start:   0 |\n",
      "| Job:  3 | Wait:    2 | Proc:    2 | Wait:    4 | Proc:    4 | Wait:    2 | Proc:    2 | Wait:    0 | Proc:    0 |\n",
      "|         |            | Stop:    2 |            | Stop:    4 |            | Stop:    2 |            | Stop:    0 |\n",
      "|---------|------------|------------|------------|------------|------------|------------|------------|------------|\n",
      "|         |            | Idle:    1 |            | Idle:    4 |            | Idle:    0 |            | Idle:    8 |\n",
      "|---------|------------|------------|------------|------------|------------|------------|------------|------------|\n",
      "|         |            | Start:   1 |            | Start:   4 |            | Start:   0 |            | Start:   8 |\n",
      "| Job:  2 | Wait:    1 | Proc:    1 | Wait:    4 | Proc:    4 | Wait:    0 | Proc:    0 | Wait:    8 | Proc:    8 |\n",
      "|         |            | Stop:    1 |            | Stop:    4 |            | Stop:    0 |            | Stop:    8 |\n",
      "|---------|------------|------------|------------|------------|------------|------------|------------|------------|\n",
      "\n"
     ]
    }
   ],
   "source": [
    "print(schedule(proc, greedy_result))\n",
    "\n"
   ]
  },
  {
   "cell_type": "code",
   "execution_count": 31,
   "id": "9c5f0036",
   "metadata": {},
   "outputs": [],
   "source": [
    "import random\n",
    "import time\n",
    "\n",
    "def aco_job_scheduling(proc, num_ants, num_iterations, evaporation_rate, alpha, beta):\n",
    "    num_jobs = len(proc)\n",
    "    num_machines = len(proc[0])\n",
    "\n",
    "    # Initialize pheromone matrix and heuristic information\n",
    "    pheromone = [[1.0] * num_machines for _ in range(num_jobs)]\n",
    "    heuristic = [[1.0 / proc[j][m] for m in range(num_machines)] for j in range(num_jobs)]\n",
    "\n",
    "    best_schedule = None\n",
    "    best_makespan = float('inf')\n",
    "\n",
    "    for _ in range(num_iterations):\n",
    "        ant_schedules = []\n",
    "\n",
    "        # Construct solutions with each ant\n",
    "        for ant in range(num_ants):\n",
    "            schedule = [-1] * num_jobs\n",
    "            machine_completion_times = [0] * num_machines\n",
    "\n",
    "            for job in range(num_jobs):\n",
    "                # Compute probabilities for job assignment to machines\n",
    "                probabilities = [0.0] * num_machines\n",
    "                for machine in range(num_machines):\n",
    "                    if machine_completion_times[machine] == 0:\n",
    "                        machine_completion_times[machine] += proc[job][machine]\n",
    "                        schedule[job] = machine\n",
    "                        break\n",
    "                    else:\n",
    "                        probabilities[machine] = (pheromone[job][machine] ** alpha) * (heuristic[job][machine] ** beta)\n",
    "                else:\n",
    "                    # Choose machine based on probabilities\n",
    "                    total_probability = sum(probabilities)\n",
    "                    selected_machine = random.choices(range(num_machines), probabilities)[0]\n",
    "                    machine_completion_times[selected_machine] += proc[job][selected_machine]\n",
    "                    schedule[job] = selected_machine\n",
    "\n",
    "            ant_schedules.append(schedule)\n",
    "\n",
    "        # Update pheromone based on ant solutions\n",
    "        for ant_schedule in ant_schedules:\n",
    "            ant_makespan = calculate_makespan(proc, ant_schedule)\n",
    "            if ant_makespan < best_makespan:\n",
    "                best_makespan = ant_makespan\n",
    "                best_schedule = ant_schedule\n",
    "\n",
    "            # Update pheromone levels\n",
    "            for job in range(num_jobs):\n",
    "                for machine in range(num_machines):\n",
    "                    if ant_schedule[job] == machine:\n",
    "                        pheromone[job][machine] = (1 - evaporation_rate) * pheromone[job][machine] + evaporation_rate / ant_makespan\n",
    "\n",
    "    return best_schedule, best_makespan\n",
    "\n",
    "def calculate_makespan(proc, schedule):\n",
    "    num_jobs = len(proc)\n",
    "    num_machines = len(proc[0])\n",
    "    machine_completion_times = [0] * num_machines\n",
    "\n",
    "    for job in range(num_jobs):\n",
    "        machine = schedule[job]\n",
    "        machine_completion_times[machine] += proc[job][machine]\n",
    "\n",
    "    return max(machine_completion_times)\n",
    "\n",
    "\n"
   ]
  },
  {
   "cell_type": "code",
   "execution_count": 32,
   "id": "b178b3ca",
   "metadata": {},
   "outputs": [
    {
     "name": "stdout",
     "output_type": "stream",
     "text": [
      "Best Schedule: [0, 1, 2, 3, 2]\n",
      "Best Makespan: 3\n",
      "Runtime: 0.011006355285644531 seconds\n",
      "Schedule after Ant Colony Optimization:\n",
      "|---------|------------|------------|------------|------------|\n",
      "|         |            | Machine:  0             | Machine:  1             | Machine:  2             | Machine:  3 |\n",
      "|---------|------------|------------|------------|------------|\n",
      "|         |            | Idle:  0.0             | Idle:  3.0             | Idle:  5.0             | Idle:  8.0 |\n",
      "|---------|------------|------------|------------|------------|\n",
      "|         |            | Start:  0.0             | Start:  3.0             | Start:  5.0             | Start:  8.0 |\n",
      "| Job:  0 | Wait:  0.0 | Proc:  2.0 |\n",
      "| Job:  1 | Wait:  inf | Proc:  2.0 |\n",
      "| Job:  2 | Wait:  inf | Proc:  1.0 |         |         |   |\n",
      "| Job:  3 | Wait:  inf | Proc:  2.0 |\n",
      "|         |            | Stop:  2.0             | Stop:  5.0             | Stop:  6.0             | Stop: 10.0 |\n",
      "|---------|------------|------------|------------|------------|\n",
      "|         |            | Idle:               | Idle:               | Idle: 14.0             | Idle:   |\n",
      "|---------|------------|------------|------------|------------|\n",
      "|         |            | Start:               | Start:               | Start: 14.0             | Start:   |\n",
      "|         |         |   |\n",
      "|         |         |   |\n",
      "|         |         |   | Job:  4 | Wait:  0.0 | Proc:  2.0 |\n",
      "|         |         |   |\n",
      "|         |            | Stop:               | Stop:               | Stop: 16.0             | Stop:   |\n",
      "|---------|------------|------------|------------|------------|\n"
     ]
    }
   ],
   "source": [
    "def print_schedule_formatted(idle_times, start_times, job_wait_proc, stop_times):\n",
    "    num_machines = len(idle_times)\n",
    "    max_jobs_per_machine = max(len(lst) for lst in job_wait_proc)\n",
    "    header = \"|---------|\"\n",
    "    for _ in range(num_machines):\n",
    "        header += \"------------|\"\n",
    "    print(header)\n",
    "    print(\"|         |\", end=\"\")\n",
    "    for m in range(num_machines):\n",
    "        print(f\"            | Machine: {m:2d} \", end=\"\")\n",
    "    print(\"|\")\n",
    "    print(header)\n",
    "    for i in range(max_jobs_per_machine):\n",
    "        print(\"|         |\", end=\"\")\n",
    "        for m in range(num_machines):\n",
    "            if i < len(idle_times[m]):\n",
    "                print(f\"       {' ':4s} | Idle: {idle_times[m][i]:4.1f} \", end=\"\")\n",
    "            else:\n",
    "                print(f\"       {' ':4s} | Idle: {' ':s} \", end=\"\")\n",
    "        print(\"|\")\n",
    "        print(header)\n",
    "        print(\"|         |\", end=\"\")\n",
    "        for m in range(num_machines):\n",
    "            if i < len(start_times[m]):\n",
    "                print(f\"       {' ':4s} | Start: {start_times[m][i]:4.1f} \", end=\"\")\n",
    "            else:\n",
    "                print(f\"       {' ':4s} | Start: {' ':s} \", end=\"\")\n",
    "        print(\"|\")\n",
    "        for m in range(num_machines):\n",
    "            for j in range(len(job_wait_proc[m])):\n",
    "                job, wait, proc_time = job_wait_proc[m][j]\n",
    "                if j == i:\n",
    "                    print(f\"| Job: {job:2d} | Wait: {wait:4.1f} | Proc: {proc_time:4.1f} \", end=\"\")\n",
    "                else:\n",
    "                    print(f\"|         |       {' ':s} | {' ':s} \", end=\"\")\n",
    "            print(\"|\")\n",
    "        print(\"|         |\", end=\"\")\n",
    "        for m in range(num_machines):\n",
    "            if i < len(stop_times[m]):\n",
    "                print(f\"       {' ':4s} | Stop: {stop_times[m][i]:4.1f} \", end=\"\")\n",
    "            else:\n",
    "                print(f\"       {' ':4s} | Stop: {' ':s} \", end=\"\")\n",
    "        print(\"|\")\n",
    "        print(header)\n",
    "\n",
    "# Example usage\n",
    "proc = [[2, 7, 6, 9], [3, 2, 5, 6], [1, 4, 1, 8], [2, 4, 2, 2], [9, 5, 2, 7]]\n",
    "num_ants = 10\n",
    "num_iterations = 100\n",
    "evaporation_rate = 0.1\n",
    "alpha = 1.0\n",
    "beta = 2.0\n",
    "\n",
    "start_time = time.time()\n",
    "best_schedule, best_makespan = aco_job_scheduling(proc, num_ants, num_iterations, evaporation_rate, alpha, beta)\n",
    "runtime = time.time() - start_time\n",
    "\n",
    "print(\"Best Schedule:\", best_schedule)\n",
    "print(\"Best Makespan:\", best_makespan)\n",
    "print(\"Runtime:\", runtime, \"seconds\")\n",
    "\n",
    "# Generate schedule details for printing\n",
    "idle_times = [[] for _ in range(len(proc[0]))]\n",
    "start_times = [[] for _ in range(len(proc[0]))]\n",
    "job_wait_proc = [[] for _ in range(len(proc[0]))]\n",
    "stop_times = [[] for _ in range(len(proc[0]))]\n",
    "\n",
    "for job, machine in enumerate(best_schedule):\n",
    "    if machine >= 0:  # Ensure valid machine assignment\n",
    "        if machine > 0:\n",
    "            idle = sum(proc[job][:machine])\n",
    "        else:\n",
    "            idle = 0\n",
    "        \n",
    "        start = idle\n",
    "        if job > 0:\n",
    "            # Find the latest completion time among jobs assigned to the same machine\n",
    "            previous_completion_times = [sum(proc[j][machine] for j in range(job)) if best_schedule[j] == machine else float('-inf') for j in range(job)]\n",
    "            wait = start - max(previous_completion_times)\n",
    "        else:\n",
    "            wait = 0\n",
    "        \n",
    "        proc_time = proc[job][machine]\n",
    "        stop = start + proc_time\n",
    "        \n",
    "        idle_times[machine].append(idle)\n",
    "        start_times[machine].append(start)\n",
    "        job_wait_proc[machine].append((job, wait, proc_time))\n",
    "        stop_times[machine].append(stop)\n",
    "\n",
    "print(\"Schedule after Ant Colony Optimization:\")\n",
    "print_schedule_formatted(idle_times, start_times, job_wait_proc, stop_times)\n"
   ]
  },
  {
   "cell_type": "code",
   "execution_count": 33,
   "id": "895f6ada",
   "metadata": {},
   "outputs": [
    {
     "name": "stdout",
     "output_type": "stream",
     "text": [
      "|---------|------------|------------|------------|------------|------------|------------|------------|------------|\n",
      "|         |            | Machine: 0 |            | Machine: 1 |            | Machine: 2 |            | Machine: 3 |\n",
      "|---------|------------|------------|------------|------------|------------|------------|------------|------------|\n",
      "|         |            | Idle:    0 |            | Idle:    2 |            | Idle:    9 |            | Idle:   15 |\n",
      "|---------|------------|------------|------------|------------|------------|------------|------------|------------|\n",
      "|         |            | Start:   2 |            | Start:   9 |            | Start:  15 |            | Start:  24 |\n",
      "| Job:  0 | Wait:    0 | Proc:    2 | Wait:    2 | Proc:    7 | Wait:    7 | Proc:    6 | Wait:    6 | Proc:    9 |\n",
      "|         |            | Stop:    2 |            | Stop:    9 |            | Stop:   15 |            | Stop:   24 |\n",
      "|---------|------------|------------|------------|------------|------------|------------|------------|------------|\n",
      "|         |            | Idle:    0 |            | Idle:    3 |            | Idle:    5 |            | Idle:   10 |\n",
      "|---------|------------|------------|------------|------------|------------|------------|------------|------------|\n",
      "|         |            | Start:   3 |            | Start:   5 |            | Start:  10 |            | Start:  16 |\n",
      "| Job:  1 | Wait:    0 | Proc:    3 | Wait:    3 | Proc:    2 | Wait:    2 | Proc:    5 | Wait:    5 | Proc:    6 |\n",
      "|         |            | Stop:    3 |            | Stop:    5 |            | Stop:   10 |            | Stop:   16 |\n",
      "|---------|------------|------------|------------|------------|------------|------------|------------|------------|\n",
      "|         |            | Idle:    0 |            | Idle:    1 |            | Idle:    5 |            | Idle:    6 |\n",
      "|---------|------------|------------|------------|------------|------------|------------|------------|------------|\n",
      "|         |            | Start:   1 |            | Start:   5 |            | Start:   6 |            | Start:  14 |\n",
      "| Job:  2 | Wait:    0 | Proc:    1 | Wait:    1 | Proc:    4 | Wait:    4 | Proc:    1 | Wait:    1 | Proc:    8 |\n",
      "|         |            | Stop:    1 |            | Stop:    5 |            | Stop:    6 |            | Stop:   14 |\n",
      "|---------|------------|------------|------------|------------|------------|------------|------------|------------|\n",
      "|         |            | Idle:    0 |            | Idle:    2 |            | Idle:    6 |            | Idle:    8 |\n",
      "|---------|------------|------------|------------|------------|------------|------------|------------|------------|\n",
      "|         |            | Start:   2 |            | Start:   6 |            | Start:   8 |            | Start:  10 |\n",
      "| Job:  3 | Wait:    0 | Proc:    2 | Wait:    2 | Proc:    4 | Wait:    4 | Proc:    2 | Wait:    2 | Proc:    2 |\n",
      "|         |            | Stop:    2 |            | Stop:    6 |            | Stop:    8 |            | Stop:   10 |\n",
      "|---------|------------|------------|------------|------------|------------|------------|------------|------------|\n",
      "|         |            | Idle:    0 |            | Idle:    9 |            | Idle:   14 |            | Idle:   16 |\n",
      "|---------|------------|------------|------------|------------|------------|------------|------------|------------|\n",
      "|         |            | Start:   9 |            | Start:  14 |            | Start:  16 |            | Start:  23 |\n",
      "| Job:  4 | Wait:    0 | Proc:    9 | Wait:    9 | Proc:    5 | Wait:    5 | Proc:    2 | Wait:    2 | Proc:    7 |\n",
      "|         |            | Stop:    9 |            | Stop:   14 |            | Stop:   16 |            | Stop:   23 |\n",
      "|---------|------------|------------|------------|------------|------------|------------|------------|------------|\n",
      "\n"
     ]
    }
   ],
   "source": [
    "def print_schedule_formatted(proc):\n",
    "    N_JOBS = len(proc)      # Number of jobs\n",
    "    N_MACHINES = len(proc[0])  # Number of machines\n",
    "\n",
    "    # Initialize the row string\n",
    "    row = \"\"\n",
    "    row += '|---------|'\n",
    "    for m in range(N_MACHINES):\n",
    "        row += f\"------------|\" \\\n",
    "               f\"------------|\"\n",
    "    row += '\\n'\n",
    "    row += '|         |'\n",
    "    for m in range(N_MACHINES):\n",
    "        row += f\"            | Machine: {m:1d} |\"\n",
    "    row += '\\n'\n",
    "\n",
    "    for j in range(N_JOBS):\n",
    "        row += '|---------|'\n",
    "        for m in range(N_MACHINES):\n",
    "            row += f\"------------|\" \\\n",
    "                   f\"------------|\"\n",
    "        row += '\\n'\n",
    "\n",
    "        row += '|         |'\n",
    "        for m in range(N_MACHINES):\n",
    "            idle_time = sum(proc[j][:m])  # Idle time is sum of processing times before current machine\n",
    "            row += f\"       {' ':4s} | Idle: {idle_time:4d} |\"\n",
    "        row += '\\n'\n",
    "\n",
    "        row += '|---------|'\n",
    "        for m in range(N_MACHINES):\n",
    "            row += f\"------------|\" \\\n",
    "                   f\"------------|\"\n",
    "        row += '\\n'\n",
    "\n",
    "        row += '|         |'\n",
    "        for m in range(N_MACHINES):\n",
    "            start_time = sum(proc[j][:m+1])  # Start time is sum of all previous processing times\n",
    "            row += f\"       {' ':4s} | Start:{start_time:4d} |\"\n",
    "        row += '\\n'\n",
    "\n",
    "        row += f'| Job: {j:2d} |'\n",
    "        for m in range(N_MACHINES):\n",
    "            wait_time = max(0, sum(proc[j][:m]) - sum(proc[j][:m-1]) if m > 0 else 0)  # Wait time is difference in start times\n",
    "            proc_time = proc[j][m]  # Processing time on current machine\n",
    "            row += f\" Wait: {wait_time:4d} | Proc: {proc_time:4d} |\"\n",
    "        row += '\\n'\n",
    "\n",
    "        row += '|         |'\n",
    "        for m in range(N_MACHINES):\n",
    "            stop_time = sum(proc[j][:m+1])  # Stop time is sum of all previous processing times including current machine\n",
    "            row += f\"       {' ':4s} | Stop: {stop_time:4d} |\"\n",
    "        row += '\\n'\n",
    "\n",
    "    row += '|---------|'\n",
    "    for m in range(N_MACHINES):\n",
    "        row += f\"------------|\" \\\n",
    "               f\"------------|\"\n",
    "    row += '\\n'\n",
    "\n",
    "    return row\n",
    "\n",
    "proc = [[2, 7, 6, 9], \n",
    "        [3, 2, 5, 6], \n",
    "        [1, 4, 1, 8], \n",
    "        [2, 4, 2, 2], \n",
    "        [9, 5, 2, 7]]\n",
    "\n",
    "# Print the formatted job schedule\n",
    "schedule_table = print_schedule_formatted(proc)\n",
    "print(schedule_table)\n"
   ]
  }
 ],
 "metadata": {
  "kernelspec": {
   "display_name": "Python 3",
   "language": "python",
   "name": "python3"
  },
  "language_info": {
   "codemirror_mode": {
    "name": "ipython",
    "version": 3
   },
   "file_extension": ".py",
   "mimetype": "text/x-python",
   "name": "python",
   "nbconvert_exporter": "python",
   "pygments_lexer": "ipython3",
   "version": "3.8.5"
  }
 },
 "nbformat": 4,
 "nbformat_minor": 5
}
